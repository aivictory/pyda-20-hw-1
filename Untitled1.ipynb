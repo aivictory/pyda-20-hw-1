{
 "cells": [
  {
   "cell_type": "code",
   "execution_count": null,
   "metadata": {},
   "outputs": [],
   "source": [
    "phrase_1 = input('Введите Фразу 1:')\n",
    "phrase_2 = input('Введите Фразу 2:')\n",
    "\n",
    "if len (phrase_1) < len (phrase_2):\n",
    "    print('Фраза 1 короче Фразы 2')\n",
    "elif len (phrase_1) > len (phrase_2):\n",
    "    print('Фраза 1 длиннее Фразы 2')\n",
    "elif len (phrase_1) == len (phrase_2):\n",
    "    print('Фраза 1 и Фраза 2 содержат одинаковое количество символов')\n",
    "print ('Конец программы')"
   ]
  },
  {
   "cell_type": "code",
   "execution_count": null,
   "metadata": {},
   "outputs": [],
   "source": [
    "year = int(input('Введите  год:'))\n",
    "\n",
    "if year % 400 == 0:\n",
    "    print ('%d високосный год' %year)\n",
    "elif year % 100 == 0:\n",
    "    print ('%d обычный год' %year)\n",
    "elif year % 4 == 0:\n",
    "    print ('%d високосный год' %year)\n",
    "else:\n",
    "    print ('%d обычный год' %year)\n",
    "    \n",
    "print ('Конец программы')"
   ]
  },
  {
   "cell_type": "code",
   "execution_count": null,
   "metadata": {},
   "outputs": [],
   "source": [
    "date=int(input(\"Введите день рождения:\"))\n",
    "\n",
    "month=int(input(\"Введите месяц рождения:\"))\n",
    "\n",
    "if (date >= 21 and date <= 31 and month == 3) or (date >= 1 and date <= 20 and month == 4):\n",
    "    print ('Ваш знак зодиака: Овен')\n",
    "elif (date >= 21 and date <= 30 and month == 4) or (date >= 1 and date <= 21 and month == 5):\n",
    "    print ('Ваш знак зодиака: Телец')\n",
    "elif (date >= 22 and date <= 31 and month == 5) or (date >= 1 and date <= 21 and month == 6):\n",
    "    print ('Ваш знак зодиака: Близнецы')\n",
    "elif (date >= 22 and date <= 30 and month == 6) or (date >= 1 and date <= 22 and month == 7):\n",
    "    print ('Ваш знак зодиака: Рак')\n",
    "elif (date >= 23 and date <= 31 and month == 7) or (date >= 1 and date <= 23 and month == 8):\n",
    "    print ('Ваш знак зодиака: Лев')\n",
    "elif (date >= 24 and date <= 31 and month == 8) or (date >= 1 and date <= 22 and month == 9):\n",
    "    print ('Ваш знак зодиака: Дева')\n",
    "elif (date >= 23 and date <= 30 and month == 9) or (date >= 1 and date <= 22 and month == 10):\n",
    "    print ('Ваш знак зодиака: Весы')\n",
    "elif (date >= 23 and date <= 31 and month == 10) or (date >= 1 and date <= 22 and month == 11):\n",
    "    print ('Ваш знак зодиака: Скорпион')\n",
    "elif (date >= 22 and date <= 30 and month == 11) or (date >= 1 and date <= 21 and month == 12):\n",
    "    print ('Ваш знак зодиака: Стрелец')\n",
    "elif (date >= 22 and date <= 31 and month == 12) or (date >= 1 and date <= 20 and month == 1):\n",
    "    print ('Ваш знак зодиака: Козерог')\n",
    "elif (date >= 21 and date <= 31 and month == 1) or (date >= 1 and date <= 19 and month == 2):\n",
    "    print ('Ваш знак зодиака: Водолей')\n",
    "elif (date >= 20 and date <= 29 and month == 2) or (date >= 1 and date <= 20 and month == 3):\n",
    "    print ('Ваш знак зодиака: Рыбы')\n",
    "print ('Конец программы')"
   ]
  },
  {
   "cell_type": "code",
   "execution_count": null,
   "metadata": {},
   "outputs": [],
   "source": [
    "width = input('Введите  ширину в см: ')\n",
    "length = input('Введите  длину в см: ')\n",
    "height = input('Введите  высоту в см: ')\n",
    "while True:\n",
    "    if (width.isnumeric() and length.isnumeric() and height.isnumeric()):\n",
    "        width = int(width)\n",
    "        length = int(length)\n",
    "        height = int(height)\n",
    "        break\n",
    "    else:\n",
    "        print('Вводить можно только числа')\n",
    "        width = input('Введите  ширину в см: ')\n",
    "        length = input('Введите  длину в см: ')\n",
    "        height = input('Введите  высоту в см: ')\n",
    "    \n",
    "if (length > 200):\n",
    "    print('Упаковка для лыж')\n",
    "elif (width < 15 and length < 15 and height < 15):\n",
    "    print('Коробка№1')\n",
    "elif (15 < width < 50 or 15 < length < 50  or 15 < height < 50):\n",
    "    print('Коробка№2')\n",
    "else:\n",
    "    print('Стандартная коробка№3')\n",
    "print ('Конец программы')"
   ]
  }
 ],
 "metadata": {
  "kernelspec": {
   "display_name": "Python 3",
   "language": "python",
   "name": "python3"
  },
  "language_info": {
   "codemirror_mode": {
    "name": "ipython",
    "version": 3
   },
   "file_extension": ".py",
   "mimetype": "text/x-python",
   "name": "python",
   "nbconvert_exporter": "python",
   "pygments_lexer": "ipython3",
   "version": "3.8.5"
  }
 },
 "nbformat": 4,
 "nbformat_minor": 4
}
