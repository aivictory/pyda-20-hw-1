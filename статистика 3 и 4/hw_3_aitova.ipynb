{
 "cells": [
  {
   "cell_type": "code",
   "execution_count": 4,
   "metadata": {},
   "outputs": [],
   "source": [
    "import numpy as np\n",
    "import re"
   ]
  },
  {
   "cell_type": "code",
   "execution_count": 5,
   "metadata": {},
   "outputs": [
    {
     "name": "stdout",
     "output_type": "stream",
     "text": [
      "На 1000000 попыток, вероятность успеха по Монте-Карло 0.199521, выигрыш: 428684 р., выигрыш от одной игры: 0.428684 р., неудачных попыток 800479\n"
     ]
    }
   ],
   "source": [
    "attempt = 1000000\n",
    "successes = 0  \n",
    "cash = 0\n",
    "fails = 0\n",
    "\n",
    "for i in range(attempt):\n",
    "    digit_ = str(np.random.randint(0, 1000)).zfill(3)\n",
    "    if digit_ == 777:\n",
    "        cash += 200\n",
    "        successes += 1\n",
    "    elif digit_ == 999:\n",
    "        cash += 100\n",
    "        successes += 1\n",
    "    elif digit_ == 555:\n",
    "        cash += 50\n",
    "        successes += 1\n",
    "    elif digit_ == 333:\n",
    "        cash += 15\n",
    "        successes += 1\n",
    "    elif digit_ == 111:\n",
    "        cash += 10\n",
    "        successes += 1\n",
    "    elif re.match(r'\\d77', digit_):\n",
    "        cash += 5\n",
    "        successes += 1\n",
    "    elif re.match(r'\\d{2}7', digit_):\n",
    "        cash += 3\n",
    "        successes += 1\n",
    "    elif re.match(r'\\d00', digit_):\n",
    "        cash += 2\n",
    "        successes += 1\n",
    "    elif re.match(r'\\d{2}0', digit_):\n",
    "        cash += 1\n",
    "        successes += 1\n",
    "    else:\n",
    "        fails += 1\n",
    "print(f'На {attempt} попыток, вероятность успеха по Монте-Карло {successes / attempt}, выигрыш: {cash} р., выигрыш от одной игры: {cash/attempt} р., неудачных попыток {fails}')"
   ]
  },
  {
   "cell_type": "code",
   "execution_count": null,
   "metadata": {},
   "outputs": [],
   "source": []
  }
 ],
 "metadata": {
  "kernelspec": {
   "display_name": "Python 3",
   "language": "python",
   "name": "python3"
  },
  "language_info": {
   "codemirror_mode": {
    "name": "ipython",
    "version": 3
   },
   "file_extension": ".py",
   "mimetype": "text/x-python",
   "name": "python",
   "nbconvert_exporter": "python",
   "pygments_lexer": "ipython3",
   "version": "3.8.5"
  }
 },
 "nbformat": 4,
 "nbformat_minor": 4
}
