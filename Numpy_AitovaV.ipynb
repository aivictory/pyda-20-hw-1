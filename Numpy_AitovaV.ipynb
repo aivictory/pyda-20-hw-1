{
 "cells": [
  {
   "cell_type": "code",
   "execution_count": 16,
   "id": "34d17bd4-9618-4fd3-a4bd-24a4c7fe037f",
   "metadata": {},
   "outputs": [],
   "source": [
    "import numpy as np"
   ]
  },
  {
   "cell_type": "code",
   "execution_count": 2,
   "id": "edd50865-b95e-44f5-b130-6deb1ddc7d96",
   "metadata": {},
   "outputs": [],
   "source": [
    "# Задание 1"
   ]
  },
  {
   "cell_type": "code",
   "execution_count": 19,
   "id": "a5118df1-b2fd-4505-ab13-1fbe37f18241",
   "metadata": {},
   "outputs": [],
   "source": [
    "# n = 8\n",
    "n = np.array([0, 1, 2, 3, 4, 5, 6, 7])"
   ]
  },
  {
   "cell_type": "code",
   "execution_count": 18,
   "id": "3fa0c538-3c33-4d83-a6a2-97c390292d69",
   "metadata": {},
   "outputs": [
    {
     "data": {
      "text/plain": [
       "array([7, 6, 5, 4, 3, 2, 1, 0])"
      ]
     },
     "execution_count": 18,
     "metadata": {},
     "output_type": "execute_result"
    }
   ],
   "source": [
    "np.flip(n, 0)"
   ]
  },
  {
   "cell_type": "code",
   "execution_count": 20,
   "id": "085df10e-b4e6-4128-8d4e-10de33116fe0",
   "metadata": {},
   "outputs": [],
   "source": [
    "# Задание 2"
   ]
  },
  {
   "cell_type": "code",
   "execution_count": null,
   "id": "5b46514f-a07a-4d1f-89fb-d30d1a043fbb",
   "metadata": {},
   "outputs": [],
   "source": []
  },
  {
   "cell_type": "code",
   "execution_count": 20,
   "id": "b71332ca-e877-4883-a476-9afbc0ad34dc",
   "metadata": {},
   "outputs": [],
   "source": [
    "# Задание 3"
   ]
  },
  {
   "cell_type": "code",
   "execution_count": 6,
   "id": "5fed206a-8972-4c04-80b0-658e3241ebc9",
   "metadata": {},
   "outputs": [],
   "source": [
    "# 4x + 2y + z = 4 // x + 3y = 12 // 5y + 4z = -3"
   ]
  },
  {
   "cell_type": "code",
   "execution_count": 12,
   "id": "e397468e-f43b-49f8-9111-8f2b80414ebd",
   "metadata": {},
   "outputs": [],
   "source": [
    "a = np.array( [ [4, 2, 1], [1, 3, 0], [0, 5, 4] ] )"
   ]
  },
  {
   "cell_type": "code",
   "execution_count": 8,
   "id": "ab7a9cb9-d2a7-4a8b-b539-5a7596573ec5",
   "metadata": {},
   "outputs": [],
   "source": [
    "b = np.array( [4, 12, -3] )"
   ]
  },
  {
   "cell_type": "code",
   "execution_count": 9,
   "id": "68dd19ee-7902-42d1-8808-7db9688aac61",
   "metadata": {},
   "outputs": [],
   "source": [
    "from numpy import linalg"
   ]
  },
  {
   "cell_type": "code",
   "execution_count": 10,
   "id": "c931effe-c629-4e71-b867-40db44700500",
   "metadata": {},
   "outputs": [
    {
     "data": {
      "text/plain": [
       "array([ 0.46666667,  3.84444444, -5.55555556])"
      ]
     },
     "execution_count": 10,
     "metadata": {},
     "output_type": "execute_result"
    }
   ],
   "source": [
    "linalg.solve(a, b)"
   ]
  },
  {
   "cell_type": "code",
   "execution_count": 13,
   "id": "d13cede3-dced-4f3a-90f3-1d0682de8615",
   "metadata": {},
   "outputs": [
    {
     "data": {
      "text/plain": [
       "True"
      ]
     },
     "execution_count": 13,
     "metadata": {},
     "output_type": "execute_result"
    }
   ],
   "source": [
    "np.allclose( np.dot(a, linalg.solve(a, b)), b )"
   ]
  },
  {
   "cell_type": "code",
   "execution_count": null,
   "id": "9031111e-2cc3-44ce-937e-db0f534e7603",
   "metadata": {},
   "outputs": [],
   "source": [
    "# Задание 4"
   ]
  }
 ],
 "metadata": {
  "kernelspec": {
   "display_name": "Python 3",
   "language": "python",
   "name": "python3"
  },
  "language_info": {
   "codemirror_mode": {
    "name": "ipython",
    "version": 3
   },
   "file_extension": ".py",
   "mimetype": "text/x-python",
   "name": "python",
   "nbconvert_exporter": "python",
   "pygments_lexer": "ipython3",
   "version": "3.8.8"
  }
 },
 "nbformat": 4,
 "nbformat_minor": 5
}
