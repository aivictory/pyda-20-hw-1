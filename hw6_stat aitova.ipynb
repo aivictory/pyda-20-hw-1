{
 "cells": [
  {
   "cell_type": "code",
   "execution_count": 1,
   "metadata": {},
   "outputs": [],
   "source": [
    "#Задание № 0\n",
    "#Найдите минимально необходимый объем выборки для построения интервальной оценки среднего.\n",
    "\n",
    "#желаемая точность  Δ  = 3;\n",
    "#дисперсия  𝜎2  = 225;\n",
    "#уровень доверия  𝛽  = 0.95.\n",
    "#Ответ округлите до целого</div>"
   ]
  },
  {
   "cell_type": "code",
   "execution_count": 2,
   "metadata": {},
   "outputs": [],
   "source": [
    "import numpy as np\n",
    "import pandas as pd\n",
    "import scipy.stats as st\n",
    "import math"
   ]
  },
  {
   "cell_type": "code",
   "execution_count": 3,
   "metadata": {},
   "outputs": [
    {
     "name": "stdout",
     "output_type": "stream",
     "text": [
      "15.0\n",
      "Необходимый минимальный объем выборки: 96.03999999999998, с учетом округления: 97\n"
     ]
    }
   ],
   "source": [
    "v = 225\n",
    "sigma = math.sqrt(v)   # Стандартное отклонение(σ^2 = 225)\n",
    "print(sigma)\n",
    "z = round(st.norm.ppf((1+0.95)/2), 2) # Квантиль нормального распределения\n",
    "error = 3  # погрешность\n",
    "\n",
    "n = ((sigma*z)/error)**2\n",
    "print(f'Необходимый минимальный объем выборки: {n}, с учетом округления: {math.ceil(n)}')"
   ]
  },
  {
   "cell_type": "code",
   "execution_count": 4,
   "metadata": {},
   "outputs": [],
   "source": [
    "#Задание № 1\n",
    "\n",
    "#Постройте `98% доверительный интервал` для среднего значения, если известно, что\n",
    "\n",
    "#- объем выборки n = 25;\n",
    "#- среднее значение по выборке $\\overline x$ = 130;\n",
    "#- Из достоверных источников известно стандартное отклонение $\\sigma = 15$.\n",
    "    \n",
    "#В ответ укажите длину полученного доверительного интервала (разницу между правым и левым концом), окруленную до целого"
   ]
  },
  {
   "cell_type": "code",
   "execution_count": 10,
   "metadata": {},
   "outputs": [
    {
     "name": "stdout",
     "output_type": "stream",
     "text": [
      "Интервал = (122.54467847376807, 137.45532152623193)\n"
     ]
    }
   ],
   "source": [
    "n = 25 \n",
    "m = 130\n",
    "se = 15\n",
    "# так как объем выборки маленький (< 30), будем использовать t-статистику\n",
    "h = (se / math.sqrt(n)) * stats.t.ppf((1 + 0.98)/2, n)  #  функция ppf из scipy возвращает нам перцентиль\n",
    "print(f'Интервал = ({m-h}, {m+h})')"
   ]
  },
  {
   "cell_type": "code",
   "execution_count": 11,
   "metadata": {},
   "outputs": [
    {
     "name": "stdout",
     "output_type": "stream",
     "text": [
      "Длина интервала = 14\n"
     ]
    }
   ],
   "source": [
    "L = int(2 * h)\n",
    "print('Длина интервала =', L)"
   ]
  },
  {
   "cell_type": "code",
   "execution_count": 5,
   "metadata": {},
   "outputs": [],
   "source": [
    "#Задание № 2\n",
    "#Даны две выборки роста мужчин и женщин.\n",
    "\n",
    "#Докажите, используя t-Тест Стьдента, что различие между выборками незначительно, если уровень значимости равен  𝛼  = 0.001."
   ]
  },
  {
   "cell_type": "code",
   "execution_count": 6,
   "metadata": {},
   "outputs": [
    {
     "name": "stdout",
     "output_type": "stream",
     "text": [
      "[  -9.05939252  294.16495466  210.4104379  ... -184.5495452   -35.50914702\n",
      "  106.85182783]\n",
      "[ 241.64222749  -25.6843464  -187.13865322 ...  186.06568912  125.87741462\n",
      " -169.21459164]\n"
     ]
    }
   ],
   "source": [
    "import scipy.stats as stats\n",
    "\n",
    "population_men  =  stats.norm.rvs(loc=19,scale=171,size=11000000)  # Выборка мужчин со средним ростом 171\n",
    "population_women = stats.norm.rvs(loc=16,scale=165,size=12000)     # Выборка женщин со средним ростом 165\n",
    "\n",
    "print(population_men)\n",
    "print(population_women)"
   ]
  },
  {
   "cell_type": "code",
   "execution_count": 7,
   "metadata": {},
   "outputs": [
    {
     "data": {
      "text/plain": [
       "Ttest_indResult(statistic=0.7640311804805101, pvalue=0.4448636493380226)"
      ]
     },
     "execution_count": 7,
     "metadata": {},
     "output_type": "execute_result"
    }
   ],
   "source": [
    "# null hypothesis: mean male == mean female\n",
    "# alt hypothesis: mean male != mean female\n",
    "\n",
    "alpha = 0.001\n",
    "\n",
    "# as len(population_men)-1 > len(population_women)-1 == True\n",
    "df = len(population_men) - 1\n",
    "\n",
    "# critical values\n",
    "n1 = len(population_men)\n",
    "n2 = len(population_men)\n",
    "\n",
    "# предположим, что дисперсия разная\n",
    "st.ttest_ind(population_men, population_women, equal_var = False)"
   ]
  },
  {
   "cell_type": "code",
   "execution_count": 16,
   "metadata": {},
   "outputs": [],
   "source": [
    "pvalue=0.0005 > alpha, нет оснований, чтобы отвергнуть нулевую гипотезу при уровне значимости 0.001%"
   ]
  },
  {
   "cell_type": "code",
   "execution_count": null,
   "metadata": {},
   "outputs": [],
   "source": [
    "#Задание № 3\n",
    "\n",
    "#Определите объем необходимой выборки для исследования среднего чека за кофе в случайном городе если известно, что в этом городе:\n",
    "\n",
    "#- стандартное отклонение $\\sigma = 150$;\n",
    "#- уровень доверия $\\beta$  = 95%;\n",
    "#- Погрешность $\\Delta = 50$ рублей."
   ]
  },
  {
   "cell_type": "code",
   "execution_count": null,
   "metadata": {},
   "outputs": [],
   "source": [
    "s = 150\n",
    "CI = 0.95\n",
    "delta = 50\n",
    "\n",
    "a = 1 - CI\n",
    "\n",
    "# ищем квантиль нормального распределения уровня 1-а/2 = 0.975 в таблице нормального распределения\n",
    "Z = 1.96\n",
    "\n",
    "n1 = (Z * s / delta)**2\n",
    "print(f'Minimal sample size is {round(n1)}')"
   ]
  },
  {
   "cell_type": "code",
   "execution_count": null,
   "metadata": {},
   "outputs": [],
   "source": [
    "Задание № 4\n",
    "\n",
    "Представьте, что вы хотите разоблачить \"волшебника\" который считает, что умеет предсказывать погоду на завтра, отвечая просто: дождь или солнце. Вы пронаблюдали за ответами \"волшебника\" в течении какого-то периода времени и получили некие результаты (см.ниже).\n",
    "\n",
    "Можно ли сказать, что маг действительно умеет предсказывать погоду? Уровень значимости принять за `0.05"
   ]
  },
  {
   "cell_type": "code",
   "execution_count": null,
   "metadata": {},
   "outputs": [],
   "source": [
    "observations = pd.DataFrame([[25,36],[15,44]],\n",
    "                            index=['Дождь','Солнце'],\n",
    "                            columns=['Ответ волшебника','Реальность'])\n",
    "observations"
   ]
  },
  {
   "cell_type": "code",
   "execution_count": null,
   "metadata": {},
   "outputs": [],
   "source": [
    "a = 0.05\n",
    "\n",
    "# Perform a Fisher exact test on a 2x2 contingency table\n",
    "oddsratio, p = stats.fisher_exact(observations)\n",
    "print(f'p-value: {p}')\n",
    "print()\n",
    "\n",
    "if p > a:\n",
    "    print('Волшебник - обманщик!')\n",
    "else:\n",
    "    print('Он настоящий волшебник!')"
   ]
  },
  {
   "cell_type": "code",
   "execution_count": null,
   "metadata": {},
   "outputs": [],
   "source": [
    "#Задание № 5\n",
    "\n",
    "#Используя функцию mean_confidence_interval(data, confidence), постройте доверительный интервал с уровнем доверия \n",
    "#beta = 90% для выборки:"
   ]
  },
  {
   "cell_type": "code",
   "execution_count": null,
   "metadata": {},
   "outputs": [],
   "source": [
    "# t-статистика при малой выборке\n",
    "def mean_confidence_interval_t(data, confidence):\n",
    "    n = len(data)\n",
    "    m = np.mean(data) \n",
    "    se = stats.sem(data)\n",
    "    h = se * stats.t.ppf((1 + confidence)/2, n) # ppf возвращает перцентиль\n",
    "    return m-h, m+h\n",
    "\n",
    "# нормальное распределение при большой выборке\n",
    "def mean_confidence_interval_n(data, confidence):\n",
    "    m = np.mean(data) \n",
    "    se = stats.sem(data)\n",
    "    conf_int = stats.norm.interval(confidence, loc=m, scale=se)\n",
    "    return conf_int"
   ]
  },
  {
   "cell_type": "code",
   "execution_count": null,
   "metadata": {},
   "outputs": [],
   "source": [
    "data = [1,5,8,9,6,7,5,6,7,8,5,6,7,0,9,8,4,6,7,9,8,6,5,7,8,9,6,7,5,8,6,7,9,5]\n",
    "\n",
    "if len(data) <= 30: # если выборка небольшая, используем t-распределение\n",
    "    print(mean_confidence_interval_t(data, 0.9))\n",
    "else: # если выборка большая, используем нормальное распределение\n",
    "    print(mean_confidence_interval_n(data, 0.9))"
   ]
  },
  {
   "cell_type": "code",
   "execution_count": null,
   "metadata": {},
   "outputs": [],
   "source": [
    "#Задание № 6\n",
    "#Принадлежат ли выборки data_1 и data_2 одному множеству?\n",
    "\n",
    "#Оцените это с помощью известных вам тестов для проверок статистических гипотез"
   ]
  },
  {
   "cell_type": "code",
   "execution_count": null,
   "metadata": {},
   "outputs": [],
   "source": [
    "data_1 = [4,5,8,9,6,7,5,6,7,8,5,6,7,0,9,8,4,6,7,9,8,6,5,7,8,9,6,7,5,8,6,7,9,5,10]\n",
    "data_2 = [8,5,6,7,0,1,8,4,6,7,0,2,6,5,7,5,3,5,3,5,3,5,5,8,7,6,4,5,3,5,4,6,4,5,3,2,6,4,2,6,1,0,4,3,5,4,3,4,5,4,3,4,5,4,3,4,5,3,4,4,1,2,4,3,1,2,4,3,2,1,5,3,4,6,4,5,3,2,4,5,6,4,3,1,3,5,3,4,4,4,2,5,3]\n",
    "\n",
    "# проверяем гипотезу Н0: М1 = М2\n",
    "# с помощью t-критерия\n",
    "t2, p2 = stats.ttest_ind(a=data_1, b=data_2)\n",
    "print('p-value = {:.13f}'.format(float(p2)))"
   ]
  },
  {
   "cell_type": "code",
   "execution_count": null,
   "metadata": {},
   "outputs": [],
   "source": [
    "P-value стремится к 0, отвергаем Н0. Мат.ожидания не совпадают, следовательно можно утверждать, что выборки принадлежат разным множествам."
   ]
  },
  {
   "cell_type": "code",
   "execution_count": null,
   "metadata": {},
   "outputs": [],
   "source": [
    "#Задание № 7 \n",
    "#На примере датасета про жилье в New York City, мы сталкивались с примером, когда переменная имеет не совсем нормальное распределение.\n",
    "\n",
    "#Предположим, Вы сформировали две гипотезы:\n",
    "#нулевая гипотеза - распределение нормальное;\n",
    "#альтернативная гипотеза - распределение ненормальное.\n",
    "#допустим, вы применили какой-то тест, который показал уровень значимости p-value = 0.03. Каковы будут ваши выводы? Будем считать что у нас нормальное распределение или все-таки нет?)"
   ]
  },
  {
   "cell_type": "code",
   "execution_count": null,
   "metadata": {},
   "outputs": [],
   "source": [
    "Если уровень значимости для наших целей составляет 0.05, то отвергаем Н0, т.е. имеющиеся данные не гоорят о нормальности распределения."
   ]
  },
  {
   "cell_type": "code",
   "execution_count": null,
   "metadata": {},
   "outputs": [],
   "source": [
    "Задание № 8\n",
    "Первая выборка — это пациенты, которых лечили препаратом А. Вторая выборка — пациенты, которых лечили препаратом B.\n",
    "\n",
    "Значения в выборках — это некоторая характеристика эффективности лечения (уровень метаболита в крови, температура через три дня после начала лечения, срок выздоровления, число койко-дней, и т.д.)\n",
    "\n",
    "Требуется выяснить, имеется ли значимое различие эффективности препаратов А и B, или различия являются чисто случайными и объясняются «естественной» дисперсией выбранной характеристики? (уровень значимости принять за 0.05 (5%))\n",
    "\n",
    "При каком минимальном p-value различия были бы уже значимы?\n"
   ]
  },
  {
   "cell_type": "code",
   "execution_count": null,
   "metadata": {},
   "outputs": [],
   "source": [
    "np.random.seed(11)\n",
    "A = stats.norm.rvs(scale=50,loc=10,size=300)\n",
    "B = A+stats.norm.rvs(scale=10,loc=-1.25,size=300)\n",
    "\n",
    "# T-тест с двумя выборками всегда использует следующую нулевую гипотезу: различия являются случайными\n",
    "np.random.seed(11)\n",
    "A = stats.norm.rvs(scale=50,loc=10,size=300)\n",
    "B = A+stats.norm.rvs(scale=10,loc=-1.25,size=300)\n",
    "\n",
    "t, p = stats.ttest_ind(A, B, equal_var=False)\n",
    "print(\"t = \" + str(t))\n",
    "print(\"p = \" + str(p))"
   ]
  },
  {
   "cell_type": "code",
   "execution_count": null,
   "metadata": {},
   "outputs": [],
   "source": [
    "#а) поскольку р-значение равно 0,74, то есть больше 0,05 (или 5%), мы не можем отвергнуть нулевую гипотезу. Можно сделать вывод, что значимого различия эффективности препаратов А и Б нет. Сказать, что различие есть, значит рискнуть ошибиться на 74%.\n",
    "\n",
    "#b) Уровень значимости принимается исследователем и зависит от поставленных им целей. Но в науке принят компромисс: у нас есть основания отвергнуть нулевую гипотезу при P-values < 0.05."
   ]
  },
  {
   "cell_type": "code",
   "execution_count": null,
   "metadata": {},
   "outputs": [],
   "source": []
  },
  {
   "cell_type": "code",
   "execution_count": null,
   "metadata": {},
   "outputs": [],
   "source": []
  }
 ],
 "metadata": {
  "kernelspec": {
   "display_name": "Python 3",
   "language": "python",
   "name": "python3"
  },
  "language_info": {
   "codemirror_mode": {
    "name": "ipython",
    "version": 3
   },
   "file_extension": ".py",
   "mimetype": "text/x-python",
   "name": "python",
   "nbconvert_exporter": "python",
   "pygments_lexer": "ipython3",
   "version": "3.8.5"
  }
 },
 "nbformat": 4,
 "nbformat_minor": 4
}
