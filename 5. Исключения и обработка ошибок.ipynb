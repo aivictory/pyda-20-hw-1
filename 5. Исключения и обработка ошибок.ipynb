{
 "cells": [
  {
   "cell_type": "code",
   "execution_count": 1,
   "metadata": {},
   "outputs": [
    {
     "name": "stdout",
     "output_type": "stream",
     "text": [
      "2002-10-02 00:00:00\n",
      "2013-10-11 00:00:00\n",
      "1977-08-18 00:00:00\n"
     ]
    }
   ],
   "source": [
    "#задание1\n",
    "from datetime import datetime\n",
    "dt = datetime.strptime(\"Wednesday, October 2, 2002\", \"%A, %B %d, %Y\")\n",
    "print(dt)\n",
    "dt = datetime.strptime(\"Friday, 11.10.13\", \"%A, %d.%m.%y\")\n",
    "print(dt)\n",
    "dt = datetime.strptime(\"Thursday, 18 August 1977\", \"%A, %d %B %Y\")\n",
    "print(dt)"
   ]
  },
  {
   "cell_type": "code",
   "execution_count": 2,
   "metadata": {},
   "outputs": [
    {
     "name": "stdout",
     "output_type": "stream",
     "text": [
      "True\n",
      "False\n",
      "False\n"
     ]
    }
   ],
   "source": [
    "#задание2\n",
    "from datetime import datetime\n",
    "stream = [\n",
    "    '2018-04-02', \n",
    "    '2018-02-29', \n",
    "    '2018-19-02']\n",
    "def check_date(list_date):\n",
    "    for date in list_date:\n",
    "        try:\n",
    "            valid_date = datetime.strptime(date, '%Y-%m-%d')\n",
    "            print(True)    \n",
    "        except ValueError:\n",
    "            print(False)\n",
    "check_date(stream)"
   ]
  },
  {
   "cell_type": "code",
   "execution_count": 3,
   "metadata": {},
   "outputs": [
    {
     "name": "stdout",
     "output_type": "stream",
     "text": [
      "Введите начальную дату в формате YYYY-MM-DD: 2018-08-20\n",
      "Введите дату окончания в формате YYYY-MM-DD: 2018-08-25\n"
     ]
    },
    {
     "data": {
      "text/plain": [
       "['2018-08-21',\n",
       " '2018-08-22',\n",
       " '2018-08-23',\n",
       " '2018-08-24',\n",
       " '2018-08-25',\n",
       " '2018-08-26']"
      ]
     },
     "execution_count": 3,
     "metadata": {},
     "output_type": "execute_result"
    }
   ],
   "source": [
    "#задание3\n",
    "from datetime import timedelta\n",
    "from datetime import datetime\n",
    "start_date=input('Введите начальную дату в формате YYYY-MM-DD: ')\n",
    "end_date=input('Введите дату окончания в формате YYYY-MM-DD: ')\n",
    "def date_range(start, end):\n",
    "    start_datetime=datetime.strptime(start,'%Y-%m-%d')\n",
    "    end_datetime=datetime.strptime(end,'%Y-%m-%d')\n",
    "    days=[]\n",
    "    intermediate_datetime=start_datetime\n",
    "    while intermediate_datetime<=end_datetime:\n",
    "        intermediate_datetime=intermediate_datetime+timedelta(days=1)\n",
    "        print_datetime=datetime.strftime(intermediate_datetime,'%Y-%m-%d')\n",
    "        days.append(print_datetime)\n",
    "        #print(print_datetime)\n",
    "    return(days)\n",
    "date_range(start_date, end_date)"
   ]
  },
  {
   "cell_type": "code",
   "execution_count": null,
   "metadata": {},
   "outputs": [],
   "source": []
  }
 ],
 "metadata": {
  "kernelspec": {
   "display_name": "Python 3",
   "language": "python",
   "name": "python3"
  },
  "language_info": {
   "codemirror_mode": {
    "name": "ipython",
    "version": 3
   },
   "file_extension": ".py",
   "mimetype": "text/x-python",
   "name": "python",
   "nbconvert_exporter": "python",
   "pygments_lexer": "ipython3",
   "version": "3.8.5"
  }
 },
 "nbformat": 4,
 "nbformat_minor": 4
}
